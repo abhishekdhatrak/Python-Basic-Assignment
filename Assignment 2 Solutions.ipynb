{
 "cells": [
  {
   "cell_type": "markdown",
   "id": "af6f2c52",
   "metadata": {},
   "source": [
    "### 1. What are the two values of the Boolean data type? How do you write them?"
   ]
  },
  {
   "cell_type": "markdown",
   "id": "c11d1cf8",
   "metadata": {},
   "source": [
    "There are two values of Boolean data type, i.e. True or False.\n",
    "True is denoted by 1 whereas False is denoted by 0.                                               \n",
    "\n",
    "Generally, it is used to represent the truth values of the expressions. \n",
    "For eg. 5 == 5 is True whereas 5 < 3 is False. "
   ]
  },
  {
   "cell_type": "markdown",
   "id": "d524d488",
   "metadata": {},
   "source": [
    "### 2. What are the three different types of Boolean operators?"
   ]
  },
  {
   "cell_type": "markdown",
   "id": "041f8bca",
   "metadata": {},
   "source": [
    "The three basic Boolean operators are 'AND', 'OR' and 'NOT'. "
   ]
  },
  {
   "cell_type": "markdown",
   "id": "fb830a31",
   "metadata": {},
   "source": [
    "### 3. Make a list of each Boolean operator&#39;s truth tables (i.e. every possible combination of Boolean values for the operator and what it evaluate )."
   ]
  },
  {
   "cell_type": "code",
   "execution_count": null,
   "id": "b5877338",
   "metadata": {},
   "outputs": [],
   "source": [
    "The \"AND\" Boolean operator\n",
    "\n",
    " A        B        A and B\n",
    "True     True      True\n",
    "False    True      False\n",
    "True     False     False\n",
    "False    False     False\n",
    "\n",
    "The \"OR\" Boolean operator\n",
    "\n",
    " A        B        A or B\n",
    "True     True      True\n",
    "False    True      True\n",
    "True     False     True\n",
    "False    False     False\n",
    "\n",
    "The \"NOT\" Boolean operator\n",
    "\n",
    " A         not A\n",
    "True      False\n",
    "False     True"
   ]
  },
  {
   "cell_type": "markdown",
   "id": "99d4289c",
   "metadata": {},
   "source": [
    "### 4. What are the values of the following expressions?"
   ]
  },
  {
   "cell_type": "code",
   "execution_count": 4,
   "id": "3400baa3",
   "metadata": {},
   "outputs": [
    {
     "data": {
      "text/plain": [
       "False"
      ]
     },
     "execution_count": 4,
     "metadata": {},
     "output_type": "execute_result"
    }
   ],
   "source": [
    "(5 > 4) and (3 == 5) "
   ]
  },
  {
   "cell_type": "code",
   "execution_count": 3,
   "id": "3a727bd1",
   "metadata": {},
   "outputs": [
    {
     "data": {
      "text/plain": [
       "False"
      ]
     },
     "execution_count": 3,
     "metadata": {},
     "output_type": "execute_result"
    }
   ],
   "source": [
    "not (5 > 4)"
   ]
  },
  {
   "cell_type": "code",
   "execution_count": 5,
   "id": "df3fbceb",
   "metadata": {},
   "outputs": [
    {
     "data": {
      "text/plain": [
       "True"
      ]
     },
     "execution_count": 5,
     "metadata": {},
     "output_type": "execute_result"
    }
   ],
   "source": [
    "(5 > 4) or (3 == 5) "
   ]
  },
  {
   "cell_type": "code",
   "execution_count": 6,
   "id": "b6243262",
   "metadata": {},
   "outputs": [
    {
     "data": {
      "text/plain": [
       "False"
      ]
     },
     "execution_count": 6,
     "metadata": {},
     "output_type": "execute_result"
    }
   ],
   "source": [
    "not ((5 > 4) or (3 == 5))"
   ]
  },
  {
   "cell_type": "code",
   "execution_count": 7,
   "id": "6851d678",
   "metadata": {},
   "outputs": [
    {
     "data": {
      "text/plain": [
       "False"
      ]
     },
     "execution_count": 7,
     "metadata": {},
     "output_type": "execute_result"
    }
   ],
   "source": [
    "(True and True) and (True == False)"
   ]
  },
  {
   "cell_type": "code",
   "execution_count": 8,
   "id": "751b1c60",
   "metadata": {},
   "outputs": [
    {
     "data": {
      "text/plain": [
       "True"
      ]
     },
     "execution_count": 8,
     "metadata": {},
     "output_type": "execute_result"
    }
   ],
   "source": [
    "(not False) or (not True)"
   ]
  },
  {
   "cell_type": "markdown",
   "id": "c41f4694",
   "metadata": {},
   "source": [
    "### 5. What are the six comparison operators?"
   ]
  },
  {
   "cell_type": "code",
   "execution_count": null,
   "id": "b8164bee",
   "metadata": {},
   "outputs": [],
   "source": [
    "Greater than (>)\n",
    "Greater than or equal to (>=)\n",
    "Less than ( < )\n",
    "Less than or equal to (<=)\n",
    "Equal to ( == )\n",
    "Not equal to ( != )"
   ]
  },
  {
   "cell_type": "markdown",
   "id": "6ed43cc3",
   "metadata": {},
   "source": [
    "### 6. How do you tell the difference between the equal to and assignment operators?Describe a condition and when you would use one."
   ]
  },
  {
   "cell_type": "markdown",
   "id": "277653d8",
   "metadata": {},
   "source": [
    "The '==' is relational or comparison operator checks whether the two given oprandas are equal or not. If these two oprandas are equal it returns 'True' , otherwise it returns 'False'.\n",
    "\n",
    "For eg. 35 == 35 \n",
    "This will give you 'True'\n",
    "\n",
    "The '=' is an assignment operator is used to assign value on the right to the variable on the left. \n",
    "\n",
    "for eg. a = 5 , b = 'xyz'\n"
   ]
  },
  {
   "cell_type": "markdown",
   "id": "6f6a00f7",
   "metadata": {},
   "source": [
    "### 7. Identify the three blocks in this code?"
   ]
  },
  {
   "cell_type": "code",
   "execution_count": null,
   "id": "f762c925",
   "metadata": {},
   "outputs": [],
   "source": [
    "The three blocks are everything inside the 'if' statement and the lines print('bacon') and print('ham').\n",
    "\n",
    "spam = 10\n",
    "\n",
    "if spam == 10:\n",
    "    print('eggs')\n",
    "    \n",
    "    if spam > 5:\n",
    "        print('bacon')\n",
    "    \n",
    "    else:\n",
    "        print('ham')\n",
    "    \n",
    "    print('spam')\n",
    "\n",
    "print('spam')"
   ]
  },
  {
   "cell_type": "markdown",
   "id": "e970120a",
   "metadata": {},
   "source": [
    "### 8. Write code that prints Hello if 1 is stored in spam, prints Howdy if 2 is stored in spam, and prints Greetings! if anything else is stored in spam."
   ]
  },
  {
   "cell_type": "code",
   "execution_count": 15,
   "id": "8acde12c",
   "metadata": {},
   "outputs": [
    {
     "name": "stdout",
     "output_type": "stream",
     "text": [
      "Enter a num: 32\n",
      "Greetings!!!\n"
     ]
    }
   ],
   "source": [
    "spam = int(input('Enter a num: '))\n",
    "\n",
    "if spam == 1:\n",
    "    print('Hello')\n",
    "\n",
    "elif spam == 2:\n",
    "    print('Howdy?')\n",
    "\n",
    "else:\n",
    "    print('Greetings!!!')"
   ]
  },
  {
   "cell_type": "markdown",
   "id": "326755aa",
   "metadata": {},
   "source": [
    "### 9. If your programme is stuck in an endless loop, what keys you’ll press?"
   ]
  },
  {
   "cell_type": "markdown",
   "id": "22427bc6",
   "metadata": {},
   "source": [
    "Press CTRL-C to stop a program stuck in an infinte loop."
   ]
  },
  {
   "cell_type": "markdown",
   "id": "28bcc1d2",
   "metadata": {},
   "source": [
    "### 10. How can you tell the difference between break and continue?"
   ]
  },
  {
   "cell_type": "markdown",
   "id": "d2e12dc1",
   "metadata": {},
   "source": [
    "The 'break' statement will move the execution outside and just after a loop, \n",
    "\n",
    "whereas the 'continue' statement will move execution to the start of the loop."
   ]
  },
  {
   "cell_type": "markdown",
   "id": "fa96087e",
   "metadata": {},
   "source": [
    "### 11. In a for loop, what is the difference between range(10), range(0, 10), and range(0, 10, 1)?"
   ]
  },
  {
   "cell_type": "markdown",
   "id": "ce8bdbb6",
   "metadata": {},
   "source": [
    "These three operations do the same thing. The range(10) call ranges from 0 up to 10 (but excluding 10). \n",
    "\n",
    "range(0, 10) explicitly tells the loop to start at 0. \n",
    "\n",
    "range(0,  10, 1) explicitly tells the loop to increase the variable by 1 on each iteration."
   ]
  },
  {
   "cell_type": "markdown",
   "id": "b4e8a61d",
   "metadata": {},
   "source": [
    "### 12. Write a short program that prints the numbers 1 to 10 using a for loop. Then write an equivalent program that prints the numbers 1 to 10 using a while loop"
   ]
  },
  {
   "cell_type": "code",
   "execution_count": 17,
   "id": "784b2a7e",
   "metadata": {},
   "outputs": [
    {
     "name": "stdout",
     "output_type": "stream",
     "text": [
      "1\n",
      "2\n",
      "3\n",
      "4\n",
      "5\n",
      "6\n",
      "7\n",
      "8\n",
      "9\n",
      "10\n"
     ]
    }
   ],
   "source": [
    "# using 'for' loop\n",
    "\n",
    "for num in range(1,11):\n",
    "    print(num)"
   ]
  },
  {
   "cell_type": "code",
   "execution_count": 30,
   "id": "08d0419b",
   "metadata": {},
   "outputs": [
    {
     "name": "stdout",
     "output_type": "stream",
     "text": [
      "1\n",
      "2\n",
      "3\n",
      "4\n",
      "5\n",
      "6\n",
      "7\n",
      "8\n",
      "9\n",
      "10\n"
     ]
    }
   ],
   "source": [
    "# using 'while' loop\n",
    "\n",
    "num = 1\n",
    "\n",
    "while num <= 10:\n",
    "    print(num)\n",
    "    num += 1"
   ]
  },
  {
   "cell_type": "markdown",
   "id": "13add8ce",
   "metadata": {},
   "source": [
    "### 13. If you had a function named bacon() inside a module named spam, how would you call it after importing spam?"
   ]
  },
  {
   "cell_type": "markdown",
   "id": "29fc0806",
   "metadata": {},
   "source": [
    "This function can be called with spam.bacon()."
   ]
  }
 ],
 "metadata": {
  "kernelspec": {
   "display_name": "Python 3",
   "language": "python",
   "name": "python3"
  },
  "language_info": {
   "codemirror_mode": {
    "name": "ipython",
    "version": 3
   },
   "file_extension": ".py",
   "mimetype": "text/x-python",
   "name": "python",
   "nbconvert_exporter": "python",
   "pygments_lexer": "ipython3",
   "version": "3.8.8"
  }
 },
 "nbformat": 4,
 "nbformat_minor": 5
}
