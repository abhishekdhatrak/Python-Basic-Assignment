{
 "cells": [
  {
   "cell_type": "markdown",
   "id": "9dc0469f",
   "metadata": {},
   "source": [
    "# Q 1. In the below elements which of them are values or an expression?  eg:- values can be integer or string and expressions will be mathematical operators."
   ]
  },
  {
   "cell_type": "markdown",
   "id": "8c234126",
   "metadata": {},
   "source": [
    "Expressions :  (*), (-), (/), (+)\n",
    "\n",
    "\n",
    "Values :       'hello', -87.8, 6"
   ]
  },
  {
   "cell_type": "markdown",
   "id": "07bf10e4",
   "metadata": {},
   "source": [
    "# Q 2. What is the difference between string and variable?"
   ]
  },
  {
   "cell_type": "markdown",
   "id": "76a5ac06",
   "metadata": {},
   "source": [
    "String: Text values in Python programs called as a \"strings\" or \"strs\". Always surround your string in single quote (') or double quote (\") characters. \n",
    "(as in 'Hello world!'). You can even have a string with no characters in it, ' ',\n",
    "called as a blank string or an empty string. It is an immutable sequence data type.\n",
    "\n",
    "Variable: A variables are like containers for storing data values. A variable is like a box in the computer’s memory where you can store a single value. If you want to use the result of an evaluated expression later in your program, you can save it inside a variable. It gives data to computer for processing. A value stored in variable can be changed during the program execution."
   ]
  },
  {
   "cell_type": "markdown",
   "id": "ca6924cb",
   "metadata": {},
   "source": [
    "# Q 3. Describe three different data types."
   ]
  },
  {
   "cell_type": "markdown",
   "id": "c7ecd9f6",
   "metadata": {},
   "source": [
    "1. Integers:   (int)    -5, -4, -1, 0, 1, 5, 6\n",
    "\n",
    "2. Floating-point numbers:   (float)    -6.2, -9.1, 1.5, 2.3, 0.0 \n",
    "\n",
    "3. String:   (str)    'a', \"hello\", 'India' \n",
    "\n",
    "4. Boolean:   (bool)    True, False\n",
    "\n",
    "5. Complex:   (complex)    5 + 6j\n"
   ]
  },
  {
   "cell_type": "markdown",
   "id": "bdf11d87",
   "metadata": {},
   "source": [
    "# Q 4. What is an expression made up of? What do all expressions do?"
   ]
  },
  {
   "cell_type": "markdown",
   "id": "79842e78",
   "metadata": {},
   "source": [
    "An expression is made up of combination of values and operators. And all the expressions evaluate to the single value."
   ]
  },
  {
   "cell_type": "markdown",
   "id": "8922e59f",
   "metadata": {},
   "source": [
    "# Q 5. This assignment statements, like spam = 10.                  What is the difference between an expression and a statement?"
   ]
  },
  {
   "cell_type": "markdown",
   "id": "d3815316",
   "metadata": {},
   "source": [
    "An expression always evalutes to the single value. But statement does not evalutes to the single value.  "
   ]
  },
  {
   "cell_type": "markdown",
   "id": "e102cbbc",
   "metadata": {},
   "source": [
    "# Q 6. After running the following code, what does the variable bacon contain?  bacon = 22 bacon + 1\n"
   ]
  },
  {
   "cell_type": "code",
   "execution_count": 3,
   "id": "fe175f36",
   "metadata": {},
   "outputs": [
    {
     "data": {
      "text/plain": [
       "23"
      ]
     },
     "execution_count": 3,
     "metadata": {},
     "output_type": "execute_result"
    }
   ],
   "source": [
    "bacon = 22\n",
    "bacon + 1"
   ]
  },
  {
   "cell_type": "code",
   "execution_count": 2,
   "id": "7be48fe0",
   "metadata": {
    "scrolled": true
   },
   "outputs": [
    {
     "data": {
      "text/plain": [
       "22"
      ]
     },
     "execution_count": 2,
     "metadata": {},
     "output_type": "execute_result"
    }
   ],
   "source": [
    "bacon"
   ]
  },
  {
   "cell_type": "markdown",
   "id": "0f9685c5",
   "metadata": {},
   "source": [
    "The variable bacon contain the value 22. "
   ]
  },
  {
   "cell_type": "markdown",
   "id": "dffdc1ed",
   "metadata": {},
   "source": [
    "# Q 7. What should the values of the following two terms be? 'spam' + 'spamspam' , 'spam' * 3\n"
   ]
  },
  {
   "cell_type": "code",
   "execution_count": 4,
   "id": "462ab932",
   "metadata": {},
   "outputs": [
    {
     "data": {
      "text/plain": [
       "'spamspamspam'"
      ]
     },
     "execution_count": 4,
     "metadata": {},
     "output_type": "execute_result"
    }
   ],
   "source": [
    "'spam' + 'spamspam'"
   ]
  },
  {
   "cell_type": "code",
   "execution_count": 5,
   "id": "07f4ae94",
   "metadata": {},
   "outputs": [
    {
     "data": {
      "text/plain": [
       "'spamspamspam'"
      ]
     },
     "execution_count": 5,
     "metadata": {},
     "output_type": "execute_result"
    }
   ],
   "source": [
    "'spam' * 3"
   ]
  },
  {
   "cell_type": "markdown",
   "id": "d6aa6341",
   "metadata": {},
   "source": [
    "Both the expressions will evaluate the same result 'spamspamspam'."
   ]
  },
  {
   "cell_type": "markdown",
   "id": "358f1de4",
   "metadata": {},
   "source": [
    "# Q 8. Why is eggs a valid variable name while 100 is invalid?"
   ]
  },
  {
   "cell_type": "markdown",
   "id": "1dcf4b0b",
   "metadata": {},
   "source": [
    "There are certain naming conventions in Python for assigning variable names. So that, variable name can't begin with a number. That is why 100 is invalid, on the other hand 'eggs' is a valid variable name."
   ]
  },
  {
   "cell_type": "markdown",
   "id": "af875b51",
   "metadata": {},
   "source": [
    "# Q 9. What three functions can be used to get the integer, floating-point number, or string version of a value?\n",
    "\n"
   ]
  },
  {
   "cell_type": "markdown",
   "id": "b3b6ebb4",
   "metadata": {},
   "source": [
    "The int(), float() and str() functions will evaluate to the integer, floating- point number and string of the value passed to them."
   ]
  },
  {
   "cell_type": "markdown",
   "id": "1c7e6665",
   "metadata": {},
   "source": [
    "# Q 10. Why does this expression cause an error? How can you fix it? 'I have eaten ' + 99 + ' burritos.'\n"
   ]
  },
  {
   "cell_type": "markdown",
   "id": "ed93071a",
   "metadata": {},
   "source": [
    "Here in this case, \n",
    "'I have eaten' + 99 + 'burritos', 99 is an integer object and others are string object that's why we can't concatenate 'str' to int object with (+) operator. \n",
    "So, we have to convert 99 into string object by type casting str(99) or simply we can do '99' this and our error has fixed. \n",
    "\n",
    "So, the correct way is: 'I have eaten' + str(99) + 'burritos'. OR \n",
    "'I have eaten' + '99' + 'burritos'. "
   ]
  }
 ],
 "metadata": {
  "kernelspec": {
   "display_name": "Python 3",
   "language": "python",
   "name": "python3"
  },
  "language_info": {
   "codemirror_mode": {
    "name": "ipython",
    "version": 3
   },
   "file_extension": ".py",
   "mimetype": "text/x-python",
   "name": "python",
   "nbconvert_exporter": "python",
   "pygments_lexer": "ipython3",
   "version": "3.8.8"
  }
 },
 "nbformat": 4,
 "nbformat_minor": 5
}
