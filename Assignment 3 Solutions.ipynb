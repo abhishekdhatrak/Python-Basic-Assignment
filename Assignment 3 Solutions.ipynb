{
 "cells": [
  {
   "cell_type": "markdown",
   "id": "60e055c7",
   "metadata": {},
   "source": [
    "### 1. Why are functions advantageous to have in your programs?"
   ]
  },
  {
   "cell_type": "markdown",
   "id": "8ee9256c",
   "metadata": {},
   "source": [
    "1. It helps to divide large programs in small small groups so that we can read the code easily and debugg the program faster and better.\n",
    "2. Python functions stop us from writing same logic various times. We can write the logic in one def function and then call the same over and over. \n",
    "3. Multiple persons can work on the same program by assigning different methods to each of them. \n",
    "4. Functions reduce the need for duplicate code. This makes program shorter, earier to read and easier to update. "
   ]
  },
  {
   "cell_type": "markdown",
   "id": "9b621e4d",
   "metadata": {},
   "source": [
    "### 2. When does the code in a function run: when it's specified or when it's called?"
   ]
  },
  {
   "cell_type": "markdown",
   "id": "cd8fda6d",
   "metadata": {},
   "source": [
    "The code in function executes when the function is called, not when the function is specified. "
   ]
  },
  {
   "cell_type": "markdown",
   "id": "4997ad2c",
   "metadata": {},
   "source": [
    "### 3. What statement creates a function?"
   ]
  },
  {
   "cell_type": "markdown",
   "id": "55962e3b",
   "metadata": {},
   "source": [
    "The \"def\" statement creates a function. "
   ]
  },
  {
   "cell_type": "markdown",
   "id": "4381f4bd",
   "metadata": {},
   "source": [
    "### 4. What is the difference between a function and a function call?"
   ]
  },
  {
   "cell_type": "markdown",
   "id": "1e7ae570",
   "metadata": {},
   "source": [
    "A function consists of the 'def' statement and the code in its 'def' clause. \n",
    "A function call is what moves the program execution into the function, and function call evaluates to the function's return value. "
   ]
  },
  {
   "cell_type": "markdown",
   "id": "3895d5b5",
   "metadata": {},
   "source": [
    "### 5. How many global scopes are there in a Python program? How many local scopes?"
   ]
  },
  {
   "cell_type": "markdown",
   "id": "1f2095ed",
   "metadata": {},
   "source": [
    "There is only one global scope. \n",
    "And local scope is created whenever a function is called."
   ]
  },
  {
   "cell_type": "markdown",
   "id": "3de40dfb",
   "metadata": {},
   "source": [
    "### 6. What happens to variables in a local scope when the function call returns?"
   ]
  },
  {
   "cell_type": "markdown",
   "id": "09443923",
   "metadata": {},
   "source": [
    "When a function returns, local scope is destroyed and all the variables in it are forgotten. "
   ]
  },
  {
   "cell_type": "markdown",
   "id": "35fc3138",
   "metadata": {},
   "source": [
    "### 7. What is the concept of a return value? Is it possible to have a return value in an expression?"
   ]
  },
  {
   "cell_type": "markdown",
   "id": "cbb76ceb",
   "metadata": {},
   "source": [
    "A return value is the value that the function call evaluates to. Like any other value, return value can be used as a part of an expression. "
   ]
  },
  {
   "cell_type": "markdown",
   "id": "d7dade8e",
   "metadata": {},
   "source": [
    "### 8. If a function does not have a return statement, what is the return value of a call to that function?"
   ]
  },
  {
   "cell_type": "markdown",
   "id": "6338bbf5",
   "metadata": {},
   "source": [
    "If there is no return statement for a function, its return value is none. "
   ]
  },
  {
   "cell_type": "markdown",
   "id": "24552a09",
   "metadata": {},
   "source": [
    "### 9. How do you make a function variable refer to the global variable?"
   ]
  },
  {
   "cell_type": "markdown",
   "id": "3b547f92",
   "metadata": {},
   "source": [
    "A 'global' keyword will force a variable in a function to refer to the global variable. "
   ]
  },
  {
   "cell_type": "markdown",
   "id": "86ff9001",
   "metadata": {},
   "source": [
    "### 10. What is the data type of None?"
   ]
  },
  {
   "cell_type": "markdown",
   "id": "fafa071c",
   "metadata": {},
   "source": [
    "The data type of None is NoneType."
   ]
  },
  {
   "cell_type": "markdown",
   "id": "82c16a07",
   "metadata": {},
   "source": [
    "### 11. What does the sentence import areallyourpetsnamederic do?"
   ]
  },
  {
   "cell_type": "markdown",
   "id": "4173c9d4",
   "metadata": {},
   "source": [
    "That import statement imports a module named 'areallyourpetsnamederic'."
   ]
  },
  {
   "cell_type": "markdown",
   "id": "15f7fbb7",
   "metadata": {},
   "source": [
    "### 12. If you had a bacon() feature in a spam module, what would you call it after importing spam?"
   ]
  },
  {
   "cell_type": "markdown",
   "id": "2f47174f",
   "metadata": {},
   "source": [
    "This function can be called with spam.bacon()"
   ]
  },
  {
   "cell_type": "markdown",
   "id": "fbdf97c0",
   "metadata": {},
   "source": [
    "### 13. What can you do to save a program from crashing if it encounters an error?"
   ]
  },
  {
   "cell_type": "markdown",
   "id": "9a212cb8",
   "metadata": {},
   "source": [
    "Place the line of code that might cause an error in a try block."
   ]
  },
  {
   "cell_type": "markdown",
   "id": "511e4851",
   "metadata": {},
   "source": [
    "### 14. What is the purpose of the try clause? What is the purpose of the except clause?"
   ]
  },
  {
   "cell_type": "markdown",
   "id": "a49d9b8c",
   "metadata": {},
   "source": [
    "The code that could potentially cause an error goes in the try block.\n",
    "The code that executes if an error happens goes in the except block. "
   ]
  }
 ],
 "metadata": {
  "kernelspec": {
   "display_name": "Python 3",
   "language": "python",
   "name": "python3"
  },
  "language_info": {
   "codemirror_mode": {
    "name": "ipython",
    "version": 3
   },
   "file_extension": ".py",
   "mimetype": "text/x-python",
   "name": "python",
   "nbconvert_exporter": "python",
   "pygments_lexer": "ipython3",
   "version": "3.8.8"
  }
 },
 "nbformat": 4,
 "nbformat_minor": 5
}
